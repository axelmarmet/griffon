{
 "cells": [
  {
   "cell_type": "code",
   "execution_count": 5,
   "id": "06111f4f",
   "metadata": {},
   "outputs": [],
   "source": [
    "import griffon\n",
    "from griffon.coq_dataclasses import *\n",
    "import pickle\n",
    "\n",
    "from griffon.preprocessing import Tokenizer, Vocab\n",
    "\n",
    "import torch\n",
    "from torch.nn.utils.rnn import pad_sequence\n",
    "\n",
    "\n",
    "import os\n",
    "from glob import glob"
   ]
  },
  {
   "cell_type": "code",
   "execution_count": 6,
   "id": "39499621",
   "metadata": {},
   "outputs": [],
   "source": [
    "paths = glob(\"recommandations/test/*.pickle\")\n",
    "\n",
    "sentences = [pickle.load(open(filename, \"rb\"))[1] for filename in paths[:1000]]\n",
    "with open(\"small_recommandations/train/train.goals\", \"w\") as goal_file:\n",
    "    with open(\"small_recommandations/train/train.used\", \"w\") as used_file:\n",
    "        for sentence in sentences:\n",
    "            if sentence.used_item.type_text is not None and \\\n",
    "               sentence.goal.type_text:\n",
    "                goal_file.write(sentence.goal.type_text + \"\\n\")\n",
    "                used_file.write(sentence.used_item.type_text + \"\\n\")"
   ]
  },
  {
   "cell_type": "code",
   "execution_count": null,
   "id": "8978b151",
   "metadata": {},
   "outputs": [],
   "source": [
    "!ls small_recommandations/train"
   ]
  },
  {
   "cell_type": "code",
   "execution_count": 7,
   "id": "e0252cfd",
   "metadata": {},
   "outputs": [],
   "source": [
    "import math\n",
    "import io \n",
    "\n",
    "# from torchtext\n",
    "def read_text_iterator(path):\n",
    "    with io.open(path, encoding=\"utf8\") as f:\n",
    "        for row in f:\n",
    "            yield row\n",
    "\n",
    "class MyIterableDataset(torch.utils.data.IterableDataset):\n",
    "     def __init__(self, data_root:str):\n",
    "         super(MyIterableDataset).__init__()\n",
    "         self.goal_path = os.path.join(data_root, \"train.goals\")\n",
    "         self.used_path = os.path.join(data_root, \"train.used\")\n",
    "\n",
    "     def __iter__(self):\n",
    "        goal_iter = read_text_iterator(self.goal_path)\n",
    "        used_iter = read_text_iterator(self.used_path)\n",
    "        return zip(goal_iter, used_iter)\n",
    "\n",
    "ds = MyIterableDataset(\"small_recommandations/train\")\n",
    "\n",
    "\n",
    "\n",
    "# Single-process loading\n",
    "#print(list(torch.utils.data.DataLoader(ds, num_workers=0, batch_size=None)))\n",
    "\n"
   ]
  },
  {
   "cell_type": "code",
   "execution_count": 9,
   "metadata": {},
   "outputs": [
    {
     "name": "stdout",
     "output_type": "stream",
     "text": [
      "[[array([5928, 5929]), array([5928,   68, 5929]), array([5928,   67, 5929]), array([5928,   33, 5929]), array([5928,   49, 5929]), array([5928,   11, 5929]), array([5928,   67, 5929]), array([5928,   74, 5929]), array([5928, 5929]), array([5928,   68, 5929]), array([5928,   23, 5929]), array([5928,   33, 5929]), array([5928,   77, 5929]), array([5928, 5929]), array([5928,   11, 5929]), array([5928,   67, 5929]), array([5928,   77, 5929]), array([5928, 5929]), array([5928,   49, 5929]), array([5928,   11, 5929]), array([5928,   82, 5929]), array([5928,   23, 5929]), array([5928,   68, 5929]), array([5928,   49, 5929]), array([5928,   23, 5929]), array([5928,   11, 5929]), array([5928,   77, 5929]), array([5928, 5929]), array([5928,   68, 5929]), array([5928,   67, 5929]), array([5928,   84, 5929]), array([5928,  138, 5929]), array([5928,   67, 5929]), array([5928,   53, 5929]), array([5928,   77, 5929]), array([5928, 5929]), array([5928,   82, 5929]), array([5928,  582, 5929]), array([5928,   77, 5929]), array([5928,   67, 5929]), array([5928, 5929]), array([5928,   68, 5929]), array([5928,   67, 5929]), array([5928,   41, 5929]), array([5928,   56, 5929]), array([5928,   25, 5929]), array([5928, 5929]), array([5928,  582, 5929]), array([5928,   68, 5929]), array([5928,   49, 5929]), array([5928,   97, 5929]), array([5928, 5929]), array([5928,   40, 5929]), array([5928,   23, 5929]), array([5928,   53, 5929]), array([5928,   67, 5929]), array([5928, 5929]), array([5928,   41, 5929]), array([5928,   23, 5929]), array([5928,   68, 5929]), array([5928,   23, 5929]), array([5928,   28, 5929]), array([5928,   53, 5929]), array([5928, 5929]), array([5928,  582, 5929]), array([5928,   11, 5929]), array([5928,   67, 5929]), array([5928, 5929]), array([5928,   11, 5929]), array([5928,  582, 5929]), array([5928,   74, 5929]), array([5928,   67, 5929]), array([5928, 5929]), array([5928,   41, 5929]), array([5928,   23, 5929]), array([5928,   68, 5929]), array([5928,   23, 5929]), array([5928,   28, 5929]), array([5928,   53, 5929]), array([5928, 5929]), array([5928,   68, 5929]), array([5928,   23, 5929]), array([5928,   33, 5929]), array([5928,   77, 5929]), array([5928, 5929]), array([5928,   41, 5929]), array([5928,   23, 5929]), array([5928,   68, 5929]), array([5928,   23, 5929]), array([5928,   28, 5929]), array([5928,   53, 5929]), array([5928, 5929]), array([5928, 5929]), array([5928, 5929]), array([5928,  582, 5929]), array([5928,   11, 5929]), array([5928,   67, 5929]), array([5928, 5929]), array([5928,   56, 5929]), array([5928,   67, 5929]), array([5928,   23, 5929]), array([5928,   74, 5929]), array([5928,   67, 5929]), array([5928,   68, 5929]), array([5928,   63, 5929]), array([5928,  582, 5929]), array([5928,   97, 5929]), array([5928, 5929]), array([5928,   41, 5929]), array([5928,   67, 5929]), array([5928,   68, 5929]), array([5928, 5929]), array([5928,   77, 5929]), array([5928,   67, 5929]), array([5928,   68, 5929]), array([5928,   28, 5929]), array([5928, 5929]), array([5928,  582, 5929]), array([5928,   68, 5929]), array([5928,   49, 5929]), array([5928,   97, 5929]), array([5928, 5929]), array([5928,   40, 5929]), array([5928,   23, 5929]), array([5928,   53, 5929]), array([5928,   67, 5929]), array([5928, 5929]), array([5928,   41, 5929]), array([5928,   23, 5929]), array([5928,   68, 5929]), array([5928,   23, 5929]), array([5928,   28, 5929]), array([5928,   53, 5929]), array([5928, 5929]), array([5928,  582, 5929]), array([5928,   11, 5929]), array([5928,   67, 5929]), array([5928, 5929]), array([5928,   11, 5929]), array([5928,  582, 5929]), array([5928,   74, 5929]), array([5928,   67, 5929]), array([5928, 5929]), array([5928,   41, 5929]), array([5928,   23, 5929]), array([5928,   68, 5929]), array([5928,   23, 5929]), array([5928,   28, 5929]), array([5928,   53, 5929]), array([5928, 5929]), array([5928,   68, 5929]), array([5928,   23, 5929]), array([5928,   33, 5929]), array([5928,   77, 5929]), array([5928, 5929]), array([5928,   41, 5929]), array([5928,   23, 5929]), array([5928,   68, 5929]), array([5928,   23, 5929]), array([5928,   28, 5929]), array([5928,   53, 5929]), array([5928, 5929])], [array([5928, 5929]), array([5928,   67, 5929]), array([5928,   84, 5929]), array([5928, 5929]), array([5928,   74, 5929]), array([5928,   23, 5929]), array([5928,   68, 5929]), array([5928,   77, 5929]), array([5928, 5929]), array([5928, 5929]), array([5928,   76, 5929]), array([5928,   77, 5929]), array([5928,   67, 5929]), array([5928,   68, 5929]), array([5928, 5929]), array([5928, 5929]), array([5928,  133, 5929]), array([5928,   16, 5929]), array([5928, 5929]), array([5928,   33, 5929]), array([5928, 5929]), array([5928,   28, 5929]), array([5928, 5929]), array([5928, 5929]), array([5928, 5929]), array([5928,   76, 5929]), array([5928,   11, 5929]), array([5928,   49, 5929]), array([5928,   77, 5929]), array([5928, 5929]), array([5928,  105, 5929]), array([5928,   23, 5929]), array([5928,   77, 5929]), array([5928, 5929]), array([5928,   53, 5929]), array([5928,  138, 5929]), array([5928,   40, 5929]), array([5928, 5929]), array([5928, 5929]), array([5928,   76, 5929]), array([5928,   11, 5929]), array([5928,   49, 5929]), array([5928,   77, 5929]), array([5928, 5929]), array([5928,  105, 5929]), array([5928,   23, 5929]), array([5928,   77, 5929]), array([5928, 5929]), array([5928,   23, 5929]), array([5928,   74, 5929]), array([5928,   74, 5929]), array([5928, 5929]), array([5928,   41, 5929]), array([5928, 5929]), array([5928,   49, 5929]), array([5928,   82, 5929]), array([5928, 5929]), array([5928, 5929]), array([5928,   49, 5929]), array([5928,  138, 5929]), array([5928, 5929]), array([5928, 5929]), array([5928,  138, 5929]), array([5928, 5929]), array([5928, 5929]), array([5928,   82, 5929])]]\n"
     ]
    },
    {
     "ename": "TypeError",
     "evalue": "expected Tensor as element 0 in argument 0, but got list",
     "output_type": "error",
     "traceback": [
      "\u001b[0;31m---------------------------------------------------------------------------\u001b[0m",
      "\u001b[0;31mTypeError\u001b[0m                                 Traceback (most recent call last)",
      "\u001b[0;32m/tmp/ipykernel_140236/2148635018.py\u001b[0m in \u001b[0;36m<module>\u001b[0;34m\u001b[0m\n\u001b[1;32m     30\u001b[0m \u001b[0;34m\u001b[0m\u001b[0m\n\u001b[1;32m     31\u001b[0m \u001b[0mitera\u001b[0m \u001b[0;34m=\u001b[0m \u001b[0mtorch\u001b[0m\u001b[0;34m.\u001b[0m\u001b[0mutils\u001b[0m\u001b[0;34m.\u001b[0m\u001b[0mdata\u001b[0m\u001b[0;34m.\u001b[0m\u001b[0mDataLoader\u001b[0m\u001b[0;34m(\u001b[0m\u001b[0mds\u001b[0m\u001b[0;34m,\u001b[0m \u001b[0mnum_workers\u001b[0m\u001b[0;34m=\u001b[0m\u001b[0;36m0\u001b[0m\u001b[0;34m,\u001b[0m \u001b[0mbatch_size\u001b[0m\u001b[0;34m=\u001b[0m\u001b[0;36m2\u001b[0m\u001b[0;34m,\u001b[0m \u001b[0mcollate_fn\u001b[0m\u001b[0;34m=\u001b[0m\u001b[0mcollate_fn\u001b[0m\u001b[0;34m)\u001b[0m\u001b[0;34m\u001b[0m\u001b[0;34m\u001b[0m\u001b[0m\n\u001b[0;32m---> 32\u001b[0;31m \u001b[0;32mfor\u001b[0m \u001b[0m_\u001b[0m\u001b[0;34m,\u001b[0m \u001b[0mbatch\u001b[0m \u001b[0;32min\u001b[0m \u001b[0mzip\u001b[0m\u001b[0;34m(\u001b[0m\u001b[0mrange\u001b[0m\u001b[0;34m(\u001b[0m\u001b[0;36m1\u001b[0m\u001b[0;34m)\u001b[0m\u001b[0;34m,\u001b[0m \u001b[0mitera\u001b[0m\u001b[0;34m)\u001b[0m\u001b[0;34m:\u001b[0m\u001b[0;34m\u001b[0m\u001b[0;34m\u001b[0m\u001b[0m\n\u001b[0m\u001b[1;32m     33\u001b[0m     \u001b[0mprint\u001b[0m\u001b[0;34m(\u001b[0m\u001b[0mbatch\u001b[0m\u001b[0;34m)\u001b[0m\u001b[0;34m\u001b[0m\u001b[0;34m\u001b[0m\u001b[0m\n",
      "\u001b[0;32m~/miniconda3/envs/griffon/lib/python3.7/site-packages/torch/utils/data/dataloader.py\u001b[0m in \u001b[0;36m__next__\u001b[0;34m(self)\u001b[0m\n\u001b[1;32m    519\u001b[0m             \u001b[0;32mif\u001b[0m \u001b[0mself\u001b[0m\u001b[0;34m.\u001b[0m\u001b[0m_sampler_iter\u001b[0m \u001b[0;32mis\u001b[0m \u001b[0;32mNone\u001b[0m\u001b[0;34m:\u001b[0m\u001b[0;34m\u001b[0m\u001b[0;34m\u001b[0m\u001b[0m\n\u001b[1;32m    520\u001b[0m                 \u001b[0mself\u001b[0m\u001b[0;34m.\u001b[0m\u001b[0m_reset\u001b[0m\u001b[0;34m(\u001b[0m\u001b[0;34m)\u001b[0m\u001b[0;34m\u001b[0m\u001b[0;34m\u001b[0m\u001b[0m\n\u001b[0;32m--> 521\u001b[0;31m             \u001b[0mdata\u001b[0m \u001b[0;34m=\u001b[0m \u001b[0mself\u001b[0m\u001b[0;34m.\u001b[0m\u001b[0m_next_data\u001b[0m\u001b[0;34m(\u001b[0m\u001b[0;34m)\u001b[0m\u001b[0;34m\u001b[0m\u001b[0;34m\u001b[0m\u001b[0m\n\u001b[0m\u001b[1;32m    522\u001b[0m             \u001b[0mself\u001b[0m\u001b[0;34m.\u001b[0m\u001b[0m_num_yielded\u001b[0m \u001b[0;34m+=\u001b[0m \u001b[0;36m1\u001b[0m\u001b[0;34m\u001b[0m\u001b[0;34m\u001b[0m\u001b[0m\n\u001b[1;32m    523\u001b[0m             \u001b[0;32mif\u001b[0m \u001b[0mself\u001b[0m\u001b[0;34m.\u001b[0m\u001b[0m_dataset_kind\u001b[0m \u001b[0;34m==\u001b[0m \u001b[0m_DatasetKind\u001b[0m\u001b[0;34m.\u001b[0m\u001b[0mIterable\u001b[0m \u001b[0;32mand\u001b[0m\u001b[0;31m \u001b[0m\u001b[0;31m\\\u001b[0m\u001b[0;34m\u001b[0m\u001b[0;34m\u001b[0m\u001b[0m\n",
      "\u001b[0;32m~/miniconda3/envs/griffon/lib/python3.7/site-packages/torch/utils/data/dataloader.py\u001b[0m in \u001b[0;36m_next_data\u001b[0;34m(self)\u001b[0m\n\u001b[1;32m    559\u001b[0m     \u001b[0;32mdef\u001b[0m \u001b[0m_next_data\u001b[0m\u001b[0;34m(\u001b[0m\u001b[0mself\u001b[0m\u001b[0;34m)\u001b[0m\u001b[0;34m:\u001b[0m\u001b[0;34m\u001b[0m\u001b[0;34m\u001b[0m\u001b[0m\n\u001b[1;32m    560\u001b[0m         \u001b[0mindex\u001b[0m \u001b[0;34m=\u001b[0m \u001b[0mself\u001b[0m\u001b[0;34m.\u001b[0m\u001b[0m_next_index\u001b[0m\u001b[0;34m(\u001b[0m\u001b[0;34m)\u001b[0m  \u001b[0;31m# may raise StopIteration\u001b[0m\u001b[0;34m\u001b[0m\u001b[0;34m\u001b[0m\u001b[0m\n\u001b[0;32m--> 561\u001b[0;31m         \u001b[0mdata\u001b[0m \u001b[0;34m=\u001b[0m \u001b[0mself\u001b[0m\u001b[0;34m.\u001b[0m\u001b[0m_dataset_fetcher\u001b[0m\u001b[0;34m.\u001b[0m\u001b[0mfetch\u001b[0m\u001b[0;34m(\u001b[0m\u001b[0mindex\u001b[0m\u001b[0;34m)\u001b[0m  \u001b[0;31m# may raise StopIteration\u001b[0m\u001b[0;34m\u001b[0m\u001b[0;34m\u001b[0m\u001b[0m\n\u001b[0m\u001b[1;32m    562\u001b[0m         \u001b[0;32mif\u001b[0m \u001b[0mself\u001b[0m\u001b[0;34m.\u001b[0m\u001b[0m_pin_memory\u001b[0m\u001b[0;34m:\u001b[0m\u001b[0;34m\u001b[0m\u001b[0;34m\u001b[0m\u001b[0m\n\u001b[1;32m    563\u001b[0m             \u001b[0mdata\u001b[0m \u001b[0;34m=\u001b[0m \u001b[0m_utils\u001b[0m\u001b[0;34m.\u001b[0m\u001b[0mpin_memory\u001b[0m\u001b[0;34m.\u001b[0m\u001b[0mpin_memory\u001b[0m\u001b[0;34m(\u001b[0m\u001b[0mdata\u001b[0m\u001b[0;34m)\u001b[0m\u001b[0;34m\u001b[0m\u001b[0;34m\u001b[0m\u001b[0m\n",
      "\u001b[0;32m~/miniconda3/envs/griffon/lib/python3.7/site-packages/torch/utils/data/_utils/fetch.py\u001b[0m in \u001b[0;36mfetch\u001b[0;34m(self, possibly_batched_index)\u001b[0m\n\u001b[1;32m     33\u001b[0m         \u001b[0;32melse\u001b[0m\u001b[0;34m:\u001b[0m\u001b[0;34m\u001b[0m\u001b[0;34m\u001b[0m\u001b[0m\n\u001b[1;32m     34\u001b[0m             \u001b[0mdata\u001b[0m \u001b[0;34m=\u001b[0m \u001b[0mnext\u001b[0m\u001b[0;34m(\u001b[0m\u001b[0mself\u001b[0m\u001b[0;34m.\u001b[0m\u001b[0mdataset_iter\u001b[0m\u001b[0;34m)\u001b[0m\u001b[0;34m\u001b[0m\u001b[0;34m\u001b[0m\u001b[0m\n\u001b[0;32m---> 35\u001b[0;31m         \u001b[0;32mreturn\u001b[0m \u001b[0mself\u001b[0m\u001b[0;34m.\u001b[0m\u001b[0mcollate_fn\u001b[0m\u001b[0;34m(\u001b[0m\u001b[0mdata\u001b[0m\u001b[0;34m)\u001b[0m\u001b[0;34m\u001b[0m\u001b[0;34m\u001b[0m\u001b[0m\n\u001b[0m\u001b[1;32m     36\u001b[0m \u001b[0;34m\u001b[0m\u001b[0m\n\u001b[1;32m     37\u001b[0m \u001b[0;34m\u001b[0m\u001b[0m\n",
      "\u001b[0;32m/tmp/ipykernel_140236/2148635018.py\u001b[0m in \u001b[0;36mcollate_fn\u001b[0;34m(batch)\u001b[0m\n\u001b[1;32m     25\u001b[0m \u001b[0;34m\u001b[0m\u001b[0m\n\u001b[1;32m     26\u001b[0m     \u001b[0mprint\u001b[0m\u001b[0;34m(\u001b[0m\u001b[0mgoal_batch\u001b[0m\u001b[0;34m)\u001b[0m\u001b[0;34m\u001b[0m\u001b[0;34m\u001b[0m\u001b[0m\n\u001b[0;32m---> 27\u001b[0;31m     \u001b[0mgoal_batch\u001b[0m \u001b[0;34m=\u001b[0m \u001b[0mpad_sequence\u001b[0m\u001b[0;34m(\u001b[0m\u001b[0mgoal_batch\u001b[0m\u001b[0;34m,\u001b[0m \u001b[0mvocab\u001b[0m\u001b[0;34m.\u001b[0m\u001b[0mPAD_IDX\u001b[0m\u001b[0;34m)\u001b[0m\u001b[0;34m\u001b[0m\u001b[0;34m\u001b[0m\u001b[0m\n\u001b[0m\u001b[1;32m     28\u001b[0m     \u001b[0mused_batch\u001b[0m \u001b[0;34m=\u001b[0m \u001b[0mpad_sequence\u001b[0m\u001b[0;34m(\u001b[0m\u001b[0mused_batch\u001b[0m\u001b[0;34m,\u001b[0m \u001b[0mvocab\u001b[0m\u001b[0;34m.\u001b[0m\u001b[0mPAD_IDX\u001b[0m\u001b[0;34m)\u001b[0m\u001b[0;34m\u001b[0m\u001b[0;34m\u001b[0m\u001b[0m\n\u001b[1;32m     29\u001b[0m     \u001b[0;32mreturn\u001b[0m \u001b[0mgoal_batch\u001b[0m\u001b[0;34m,\u001b[0m \u001b[0mused_batch\u001b[0m\u001b[0;34m\u001b[0m\u001b[0;34m\u001b[0m\u001b[0m\n",
      "\u001b[0;32m~/miniconda3/envs/griffon/lib/python3.7/site-packages/torch/nn/utils/rnn.py\u001b[0m in \u001b[0;36mpad_sequence\u001b[0;34m(sequences, batch_first, padding_value)\u001b[0m\n\u001b[1;32m    361\u001b[0m     \u001b[0;31m# assuming trailing dimensions and type of all the Tensors\u001b[0m\u001b[0;34m\u001b[0m\u001b[0;34m\u001b[0m\u001b[0;34m\u001b[0m\u001b[0m\n\u001b[1;32m    362\u001b[0m     \u001b[0;31m# in sequences are same and fetching those from sequences[0]\u001b[0m\u001b[0;34m\u001b[0m\u001b[0;34m\u001b[0m\u001b[0;34m\u001b[0m\u001b[0m\n\u001b[0;32m--> 363\u001b[0;31m     \u001b[0;32mreturn\u001b[0m \u001b[0mtorch\u001b[0m\u001b[0;34m.\u001b[0m\u001b[0m_C\u001b[0m\u001b[0;34m.\u001b[0m\u001b[0m_nn\u001b[0m\u001b[0;34m.\u001b[0m\u001b[0mpad_sequence\u001b[0m\u001b[0;34m(\u001b[0m\u001b[0msequences\u001b[0m\u001b[0;34m,\u001b[0m \u001b[0mbatch_first\u001b[0m\u001b[0;34m,\u001b[0m \u001b[0mpadding_value\u001b[0m\u001b[0;34m)\u001b[0m\u001b[0;34m\u001b[0m\u001b[0;34m\u001b[0m\u001b[0m\n\u001b[0m\u001b[1;32m    364\u001b[0m \u001b[0;34m\u001b[0m\u001b[0m\n\u001b[1;32m    365\u001b[0m \u001b[0;34m\u001b[0m\u001b[0m\n",
      "\u001b[0;31mTypeError\u001b[0m: expected Tensor as element 0 in argument 0, but got list"
     ]
    }
   ],
   "source": [
    "def list_transforms(*transforms):\n",
    "    def func(txt_inputs):\n",
    "        for transform in transforms:\n",
    "            txt_inputs = [transform(txt_input) for txt_input in txt_inputs]\n",
    "        return txt_inputs\n",
    "    return func\n",
    "\n",
    "vocab:Vocab = pickle.load(open(\"vocab.pickle\", \"rb\"))\n",
    "tokenize_transform = Tokenizer()\n",
    "vocab_transform = vocab.sentence_to_tensor\n",
    "\n",
    "pipeline = list_transforms(tokenize_transform,\n",
    "                           vocab_transform)\n",
    "\n",
    "test_input = [\"forall (x y : Carrier (cart E F)) (_ : @Equal (cart E F) x y), @Equal E (proj1 x) (proj1 y) somerandomword\", \n",
    "             \"forall (x y : Carrier (cart E F))\"]\n",
    "\n",
    "pipeline(test_input)\n",
    "\n",
    "def collate_fn(batch):\n",
    "    goal_batch, used_batch = [], []\n",
    "    for goal, used in batch:\n",
    "        goal_batch.append(pipeline(goal.rstrip(\"\\n\")))\n",
    "        used_batch.append(pipeline(used.rstrip(\"\\n\")))\n",
    "    \n",
    "    print(goal_batch)\n",
    "    goal_batch = pad_sequence(goal_batch, vocab.PAD_IDX)\n",
    "    used_batch = pad_sequence(used_batch, vocab.PAD_IDX)\n",
    "    return goal_batch, used_batch\n",
    "\n",
    "itera = torch.utils.data.DataLoader(ds, num_workers=0, batch_size=2, collate_fn=collate_fn)\n",
    "for _, batch in zip(range(1), itera):\n",
    "    print(batch)"
   ]
  }
 ],
 "metadata": {
  "interpreter": {
   "hash": "b507fde4b7ba1e52694dcc45341e9929474d1b63f43d72f76eece533313bd962"
  },
  "kernelspec": {
   "display_name": "Python 3.7.1 64-bit ('griffon': conda)",
   "name": "python3"
  },
  "language_info": {
   "codemirror_mode": {
    "name": "ipython",
    "version": 3
   },
   "file_extension": ".py",
   "mimetype": "text/x-python",
   "name": "python",
   "nbconvert_exporter": "python",
   "pygments_lexer": "ipython3",
   "version": "3.7.1"
  }
 },
 "nbformat": 4,
 "nbformat_minor": 5
}
