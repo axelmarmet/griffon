{
 "cells": [
  {
   "cell_type": "code",
   "execution_count": 3,
   "id": "77110e3a",
   "metadata": {},
   "outputs": [
    {
     "data": {
      "text/plain": [
       "64"
      ]
     },
     "execution_count": 3,
     "metadata": {},
     "output_type": "execute_result"
    }
   ],
   "source": [
    "from typing import List, Dict\n",
    "\n",
    "import pickle\n",
    "\n",
    "import torch\n",
    "from torch import Tensor\n",
    "from torch.nn.utils.rnn import pad_sequence\n",
    "\n",
    "from griffon.preprocessing import CopyingTextTransform, Tokenizer\n",
    "from griffon.dataloader import UsefulItemsDataset, get_data_loader\n",
    "\n",
    "vocab = pickle.load(open(\"../models/vocab.pickle\", \"rb\"))\n",
    "vocab.get_embedding_dim()\n",
    "# tokenizer = Tokenizer()\n",
    "\n",
    "# ctt = CopyingTextTransform(vocab, tokenizer)\n",
    "\n",
    "# ds = UsefulItemsDataset(\"../data/processed/short-recommandations/valid\")\n",
    "\n",
    "# data_loader = get_data_loader(ds, ctt, 5)\n",
    "\n",
    "# for src_batch, src_map_batch, tgt_batch, align_batch in data_loader:\n",
    "#     print(\"hii\")"
   ]
  },
  {
   "cell_type": "code",
   "execution_count": 35,
   "id": "da7e23d7",
   "metadata": {},
   "outputs": [
    {
     "name": "stdout",
     "output_type": "stream",
     "text": [
      "torch.Size([13, 64, 512])\n",
      "torch.Size([64, 13, 13])\n"
     ]
    }
   ],
   "source": [
    "import torch\n",
    "from griffon.models.verbose_transformer import VerboseTransformerEncoderLayer\n",
    "\n",
    "S_LEN = 13\n",
    "BATCH_SIZE = 64\n",
    "EMB_SIZE = 512\n",
    "\n",
    "test_layer = VerboseTransformerEncoderLayer(512, 8, dropout=0)\n",
    "\n",
    "inp = torch.randn(S_LEN, BATCH_SIZE, EMB_SIZE)\n",
    "res, attention = test_layer(inp)\n",
    "print(res.shape)\n",
    "print(attention.shape)"
   ]
  },
  {
   "cell_type": "code",
   "execution_count": 44,
   "metadata": {},
   "outputs": [
    {
     "data": {
      "text/plain": [
       "torch.Size([64, 13, 512])"
      ]
     },
     "execution_count": 44,
     "metadata": {},
     "output_type": "execute_result"
    }
   ],
   "source": [
    "attention.sum(-1)\n",
    "torch.bmm(\n",
    "    attention,\n",
    "    res.transpose(1, 0)\n",
    ").shape\n"
   ]
  }
 ],
 "metadata": {
  "interpreter": {
   "hash": "b507fde4b7ba1e52694dcc45341e9929474d1b63f43d72f76eece533313bd962"
  },
  "kernelspec": {
   "display_name": "Python 3.7.1 64-bit ('griffon': conda)",
   "name": "python3"
  },
  "language_info": {
   "codemirror_mode": {
    "name": "ipython",
    "version": 3
   },
   "file_extension": ".py",
   "mimetype": "text/x-python",
   "name": "python",
   "nbconvert_exporter": "python",
   "pygments_lexer": "ipython3",
   "version": "3.7.1"
  }
 },
 "nbformat": 4,
 "nbformat_minor": 5
}
