{
 "cells": [
  {
   "cell_type": "code",
   "execution_count": 12,
   "metadata": {},
   "outputs": [],
   "source": [
    "import transformers\n",
    "from glob import glob\n",
    "import pickle\n",
    "\n",
    "from griffon.coq_dataclasses import Stage1Sample"
   ]
  },
  {
   "cell_type": "code",
   "execution_count": 14,
   "metadata": {},
   "outputs": [
    {
     "name": "stdout",
     "output_type": "stream",
     "text": [
      "A0\n",
      "forall s : Datatypes . Init . Coq nat , forall n : Datatypes . Init . Coq nat , Logic . Init . Coq eq ( Datatypes . Init . Coq list ( Datatypes . Init . Coq nat ) ) ( SerTop from_list ( s ) ( n ) ) ( Datatypes . Init . Coq app ( Datatypes . Init . Coq nat ) ( Datatypes . Init . Coq list 1 ( Datatypes . Init . Coq nat ) ) ( SerTop from_list ( s ) ( n ) ) )\n",
      "forall  : A0 , Logic . Init . Coq False\n",
      "forall n : Datatypes . Init . Coq nat , Peano . Init . Coq le ( Datatypes . Init . Coq nat 1 ) ( n )\n",
      "Logic . Init . Coq eq ( Datatypes . Init . Coq nat ) ( let x Datatypes . Init . Coq nat 2 ( Datatypes . Init . Coq nat 2 ( Datatypes . Init . Coq nat 1 ) ) Datatypes . Init . Coq nat Nat . Init . Coq add ( x ) ( x ) ) ( Datatypes . Init . Coq nat 2 ( Datatypes . Init . Coq nat 2 ( Datatypes . Init . Coq nat 2 ( Datatypes . Init . Coq nat 2 ( Datatypes . Init . Coq nat 1 ) ) ) ) )\n",
      "forall  : B0 , Logic . Init . Coq False\n",
      "B0\n",
      "forall s : Datatypes . Init . Coq nat , Logic . Init . Coq eq ( Datatypes . Init . Coq list ( Datatypes . Init . Coq nat ) ) ( SerTop from_list ( s ) ( n ) ) ( SerTop approx ( cofix from forall n : Datatypes . Init . Coq nat , SerTop Stream lambda n : Datatypes . Init . Coq nat , SerTop Stream 1 ( n ) ( from ( Datatypes . Init . Coq nat 2 ( n ) ) ) ( s ) ) ( n ) )\n",
      "forall n : Datatypes . Init . Coq nat , Peano . Init . Coq le ( Datatypes . Init . Coq nat 1 ) ( n )\n",
      "forall b : Datatypes . Init . Coq bool , Logic . Init . Coq eq ( Datatypes . Init . Coq bool ) ( Datatypes . Init . Coq andb ( b ) ( Datatypes . Init . Coq bool 2 ) ) ( Datatypes . Init . Coq bool 2 )\n",
      "forall a : Datatypes . Init . Coq nat , forall b : Datatypes . Init . Coq nat , Logic . Init . Coq eq ( Datatypes . Init . Coq nat ) ( Nat . Init . Coq add ( a ) ( b ) ) ( Nat . Init . Coq add ( b ) ( a ) )\n",
      "forall a : Datatypes . Init . Coq nat , forall b : Datatypes . Init . Coq nat , Logic . Init . Coq eq ( Datatypes . Init . Coq nat ) ( Nat . Init . Coq add ( a ) ( b ) ) ( Nat . Init . Coq add ( b ) ( a ) )\n",
      "SerTop ev ( SerTop double ( n ) )\n"
     ]
    }
   ],
   "source": [
    "files = glob(\"../data/small/stage1/train/**/*.pickle\", recursive=True)\n",
    "\n",
    "for file in files:\n",
    "    sample:Stage1Sample = pickle.load(open(file, \"rb\"))\n",
    "    tokens = [\"_\".join(token.subtokens) for token in sample.lemma_used]\n",
    "    print(\" \".join(tokens))"
   ]
  },
  {
   "cell_type": "code",
   "execution_count": 8,
   "metadata": {},
   "outputs": [],
   "source": [
    "model_checkpoint = \"distilbert-base-uncased\"\n",
    "batch_size = 16"
   ]
  },
  {
   "cell_type": "code",
   "execution_count": 9,
   "metadata": {},
   "outputs": [],
   "source": [
    "from transformers import AutoTokenizer\n",
    "    \n",
    "tokenizer = AutoTokenizer.from_pretrained(model_checkpoint, use_fast=True)\n"
   ]
  },
  {
   "cell_type": "code",
   "execution_count": 18,
   "metadata": {},
   "outputs": [
    {
     "data": {
      "text/plain": [
       "['[CLS]',\n",
       " 'for',\n",
       " '##all',\n",
       " 'a',\n",
       " ':',\n",
       " 'data',\n",
       " '##type',\n",
       " '##s',\n",
       " '.',\n",
       " 'in',\n",
       " '##it',\n",
       " '.',\n",
       " 'co',\n",
       " '##q',\n",
       " 'nat',\n",
       " ',',\n",
       " 'for',\n",
       " '##all',\n",
       " 'b',\n",
       " ':',\n",
       " 'data',\n",
       " '##type',\n",
       " '##s',\n",
       " '.',\n",
       " 'in',\n",
       " '##it',\n",
       " '.',\n",
       " 'co',\n",
       " '##q',\n",
       " 'nat',\n",
       " ',',\n",
       " 'logic',\n",
       " '.',\n",
       " 'in',\n",
       " '##it',\n",
       " '.',\n",
       " 'co',\n",
       " '##q',\n",
       " 'e',\n",
       " '##q',\n",
       " '(',\n",
       " 'data',\n",
       " '##type',\n",
       " '##s',\n",
       " '.',\n",
       " 'in',\n",
       " '##it',\n",
       " '.',\n",
       " 'co',\n",
       " '##q',\n",
       " 'nat',\n",
       " ')',\n",
       " '(',\n",
       " 'nat',\n",
       " '.',\n",
       " 'in',\n",
       " '##it',\n",
       " '.',\n",
       " 'co',\n",
       " '##q',\n",
       " 'add',\n",
       " '(',\n",
       " 'a',\n",
       " ')',\n",
       " '(',\n",
       " 'b',\n",
       " ')',\n",
       " ')',\n",
       " '(',\n",
       " 'nat',\n",
       " '.',\n",
       " 'in',\n",
       " '##it',\n",
       " '.',\n",
       " 'co',\n",
       " '##q',\n",
       " 'add',\n",
       " '_',\n",
       " 'some',\n",
       " '_',\n",
       " 'super',\n",
       " '_',\n",
       " 'numbers',\n",
       " '(',\n",
       " 'b',\n",
       " ')',\n",
       " '(',\n",
       " 'a',\n",
       " ')',\n",
       " ')',\n",
       " '[SEP]']"
      ]
     },
     "execution_count": 18,
     "metadata": {},
     "output_type": "execute_result"
    }
   ],
   "source": [
    "sample_str = \"forall a : Datatypes . Init . Coq nat , forall b : Datatypes . Init . Coq nat , Logic . Init . Coq eq ( Datatypes . Init . Coq nat ) ( Nat . Init . Coq add ( a ) ( b ) ) ( Nat . Init . Coq add_some_super_numbers ( b ) ( a ) )\"\n",
    "inp = tokenizer(sample_str)\n",
    "\n",
    "tokenizer.convert_ids_to_tokens(inp['input_ids'])"
   ]
  }
 ],
 "metadata": {
  "interpreter": {
   "hash": "b507fde4b7ba1e52694dcc45341e9929474d1b63f43d72f76eece533313bd962"
  },
  "kernelspec": {
   "display_name": "Python 3.7.1 64-bit ('griffon': conda)",
   "language": "python",
   "name": "python3"
  },
  "language_info": {
   "codemirror_mode": {
    "name": "ipython",
    "version": 3
   },
   "file_extension": ".py",
   "mimetype": "text/x-python",
   "name": "python",
   "nbconvert_exporter": "python",
   "pygments_lexer": "ipython3",
   "version": "3.7.1"
  },
  "orig_nbformat": 4
 },
 "nbformat": 4,
 "nbformat_minor": 2
}
