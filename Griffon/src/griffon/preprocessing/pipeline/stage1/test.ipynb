{
 "cells": [
  {
   "cell_type": "code",
   "execution_count": 2,
   "metadata": {},
   "outputs": [],
   "source": [
    "import torch\n",
    "\n",
    "import random\n",
    "\n",
    "for _ in range(100):\n",
    "    I = random.randint(1,100)\n",
    "    J = random.randint(1,100)\n",
    "    B = random.randint(1,100)\n",
    "    N = random.randint(1,100)\n",
    "\n",
    "    inp = torch.randn((I, J, B, N))\n",
    "\n",
    "    expected = inp.permute(2,3,0,1)\n",
    "    res = torch.einsum('ijbn->bnij', inp)\n",
    "    assert torch.all(expected == res)"
   ]
  }
 ],
 "metadata": {
  "interpreter": {
   "hash": "b507fde4b7ba1e52694dcc45341e9929474d1b63f43d72f76eece533313bd962"
  },
  "kernelspec": {
   "display_name": "Python 3.7.1 64-bit ('griffon': conda)",
   "language": "python",
   "name": "python3"
  },
  "language_info": {
   "codemirror_mode": {
    "name": "ipython",
    "version": 3
   },
   "file_extension": ".py",
   "mimetype": "text/x-python",
   "name": "python",
   "nbconvert_exporter": "python",
   "pygments_lexer": "ipython3",
   "version": "3.7.1"
  },
  "orig_nbformat": 4
 },
 "nbformat": 4,
 "nbformat_minor": 2
}
